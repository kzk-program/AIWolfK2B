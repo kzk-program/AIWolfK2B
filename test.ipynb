{
 "cells": [
  {
   "cell_type": "code",
   "execution_count": 13,
   "metadata": {},
   "outputs": [],
   "source": [
    "class Test:\n",
    "    def __init__(self):\n",
    "        self.val = 1\n",
    "test = Test()\n",
    "\n",
    "try:\n",
    "    if test.nonval == 1:\n",
    "        print(\"Exists\")\n",
    "except AttributeError:\n",
    "    0"
   ]
  }
 ],
 "metadata": {
  "language_info": {
   "name": "python"
  },
  "orig_nbformat": 4
 },
 "nbformat": 4,
 "nbformat_minor": 2
}
