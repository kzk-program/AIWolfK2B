{
 "cells": [
  {
   "cell_type": "code",
   "execution_count": null,
   "metadata": {},
   "outputs": [],
   "source": [
    "#データの前処理をする\n",
    "# 1. データの読み込み\n",
    "# 指定したディレクトリにあるデータを読み込む\n",
    "inputdir = \"/home/takuya/HDD1/work/AI_Wolf/2023S_AIWolfK2B/aiwolfk2b/utils/output/\"\n",
    "log_grob = inputdir + \"log_*.txt\"\n",
    "outdir = \"/home/takuya/HDD1/work/AI_Wolf/2023S_AIWolfK2B/aiwolfk2b/utils\"\n",
    "out_filename = \"estimate_log\"\n",
    "# 2. データの整形\n",
    "\n",
    "\n",
    "\n",
    "\n"
   ]
  }
 ],
 "metadata": {
  "language_info": {
   "name": "python"
  },
  "orig_nbformat": 4
 },
 "nbformat": 4,
 "nbformat_minor": 2
}
